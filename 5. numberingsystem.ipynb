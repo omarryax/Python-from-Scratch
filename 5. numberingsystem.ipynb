{
 "cells": [
  {
   "cell_type": "markdown",
   "id": "9a941e5a",
   "metadata": {},
   "source": [
    "1. Decimal Number System -> int \n",
    "2. Binary Number System -> 0b or 0B\n",
    "3. Octal Number System -> 0o or 0O\n",
    "4. Hexadecimal Number System -> 0x or 0X"
   ]
  },
  {
   "cell_type": "markdown",
   "id": "1dbadbbd",
   "metadata": {},
   "source": [
    "Functions: hex(),oct(),bin()"
   ]
  },
  {
   "cell_type": "code",
   "execution_count": 1,
   "id": "e39f4c65",
   "metadata": {},
   "outputs": [],
   "source": [
    "x= 400"
   ]
  },
  {
   "cell_type": "code",
   "execution_count": 2,
   "id": "e5fecbac",
   "metadata": {},
   "outputs": [
    {
     "data": {
      "text/plain": [
       "'0x190'"
      ]
     },
     "execution_count": 2,
     "metadata": {},
     "output_type": "execute_result"
    }
   ],
   "source": [
    "hex(x)"
   ]
  },
  {
   "cell_type": "code",
   "execution_count": 3,
   "id": "a288d444",
   "metadata": {},
   "outputs": [
    {
     "data": {
      "text/plain": [
       "'0o620'"
      ]
     },
     "execution_count": 3,
     "metadata": {},
     "output_type": "execute_result"
    }
   ],
   "source": [
    "oct(x)"
   ]
  },
  {
   "cell_type": "code",
   "execution_count": 4,
   "id": "1521515d",
   "metadata": {},
   "outputs": [
    {
     "data": {
      "text/plain": [
       "'0b110010000'"
      ]
     },
     "execution_count": 4,
     "metadata": {},
     "output_type": "execute_result"
    }
   ],
   "source": [
    "bin(x)"
   ]
  }
 ],
 "metadata": {
  "kernelspec": {
   "display_name": "Python 3",
   "language": "python",
   "name": "python3"
  },
  "language_info": {
   "codemirror_mode": {
    "name": "ipython",
    "version": 3
   },
   "file_extension": ".py",
   "mimetype": "text/x-python",
   "name": "python",
   "nbconvert_exporter": "python",
   "pygments_lexer": "ipython3",
   "version": "3.10.11"
  }
 },
 "nbformat": 4,
 "nbformat_minor": 5
}
