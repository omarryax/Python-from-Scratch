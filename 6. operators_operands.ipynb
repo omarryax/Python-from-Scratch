{
 "cells": [
  {
   "cell_type": "markdown",
   "id": "24c1511d",
   "metadata": {},
   "source": [
    "+,_,/,*"
   ]
  },
  {
   "cell_type": "code",
   "execution_count": 1,
   "id": "a464135f",
   "metadata": {},
   "outputs": [
    {
     "data": {
      "text/plain": [
       "8"
      ]
     },
     "execution_count": 1,
     "metadata": {},
     "output_type": "execute_result"
    }
   ],
   "source": [
    "6+2"
   ]
  },
  {
   "cell_type": "markdown",
   "id": "e64ab6a6",
   "metadata": {},
   "source": [
    "Order of operators: PEMDAS->Parenthesis, Expression, Multiplication and Division, Addition and Subtraction"
   ]
  },
  {
   "cell_type": "code",
   "execution_count": 5,
   "id": "ac9a2e68",
   "metadata": {},
   "outputs": [
    {
     "data": {
      "text/plain": [
       "4.0"
      ]
     },
     "execution_count": 5,
     "metadata": {},
     "output_type": "execute_result"
    }
   ],
   "source": [
    "8+2-5*(3*2)/5"
   ]
  },
  {
   "cell_type": "markdown",
   "id": "fb399ea0",
   "metadata": {},
   "source": [
    "Types of Python Operators:\n",
    "Arithmetic Operators,\n",
    "Bitwise Operators,\n",
    "Assignment Operators etc.),\n",
    "Comparison Operator,\n",
    "Logical Operators ( or, not),\n",
    "Identity Operators ( is not),\n",
    "Membership Operators ( not in)."
   ]
  },
  {
   "cell_type": "code",
   "execution_count": 12,
   "id": "ce31b3d1",
   "metadata": {},
   "outputs": [
    {
     "data": {
      "text/plain": [
       "2.5"
      ]
     },
     "execution_count": 12,
     "metadata": {},
     "output_type": "execute_result"
    }
   ],
   "source": [
    "5/2"
   ]
  },
  {
   "cell_type": "code",
   "execution_count": 15,
   "id": "d7fdf011",
   "metadata": {},
   "outputs": [
    {
     "data": {
      "text/plain": [
       "1"
      ]
     },
     "execution_count": 15,
     "metadata": {},
     "output_type": "execute_result"
    }
   ],
   "source": [
    "5//3 #floor division"
   ]
  },
  {
   "cell_type": "code",
   "execution_count": 16,
   "id": "01528dd1",
   "metadata": {},
   "outputs": [
    {
     "data": {
      "text/plain": [
       "2"
      ]
     },
     "execution_count": 16,
     "metadata": {},
     "output_type": "execute_result"
    }
   ],
   "source": [
    "5%3 #modulus"
   ]
  },
  {
   "cell_type": "code",
   "execution_count": 17,
   "id": "ec523173",
   "metadata": {},
   "outputs": [
    {
     "data": {
      "text/plain": [
       "25"
      ]
     },
     "execution_count": 17,
     "metadata": {},
     "output_type": "execute_result"
    }
   ],
   "source": [
    "5**2 #exponentiation/square "
   ]
  },
  {
   "cell_type": "code",
   "execution_count": 32,
   "id": "065a9a37",
   "metadata": {},
   "outputs": [
    {
     "name": "stdout",
     "output_type": "stream",
     "text": [
      "4\n"
     ]
    },
    {
     "data": {
      "text/plain": [
       "'0b100'"
      ]
     },
     "execution_count": 32,
     "metadata": {},
     "output_type": "execute_result"
    }
   ],
   "source": [
    "#bitwise operator\n",
    "# &, |, ^, ~, <<, >>\n",
    "binary=0b111&0b100\n",
    "print(binary) #0b100\n",
    "bin(binary) #convert to binary string "
   ]
  },
  {
   "cell_type": "code",
   "execution_count": 33,
   "id": "83fafb5b",
   "metadata": {},
   "outputs": [
    {
     "data": {
      "text/plain": [
       "4"
      ]
     },
     "execution_count": 33,
     "metadata": {},
     "output_type": "execute_result"
    }
   ],
   "source": [
    "4&5"
   ]
  },
  {
   "cell_type": "code",
   "execution_count": 35,
   "id": "96464737",
   "metadata": {},
   "outputs": [
    {
     "name": "stdout",
     "output_type": "stream",
     "text": [
      "7\n"
     ]
    },
    {
     "data": {
      "text/plain": [
       "'0b111'"
      ]
     },
     "execution_count": 35,
     "metadata": {},
     "output_type": "execute_result"
    }
   ],
   "source": [
    "or_var= 0b111|0b100\n",
    "print(or_var) #0b111\n",
    "bin(or_var) #convert to binary string"
   ]
  },
  {
   "cell_type": "code",
   "execution_count": 36,
   "id": "77d67518",
   "metadata": {},
   "outputs": [
    {
     "name": "stdout",
     "output_type": "stream",
     "text": [
      "3\n"
     ]
    },
    {
     "data": {
      "text/plain": [
       "'0b11'"
      ]
     },
     "execution_count": 36,
     "metadata": {},
     "output_type": "execute_result"
    }
   ],
   "source": [
    "xor_var= 0b111^0b100\n",
    "print(xor_var) #0b011       \n",
    "bin(xor_var) #convert to binary string"
   ]
  },
  {
   "cell_type": "code",
   "execution_count": 37,
   "id": "ea2c00c3",
   "metadata": {},
   "outputs": [
    {
     "name": "stdout",
     "output_type": "stream",
     "text": [
      "-8\n"
     ]
    },
    {
     "data": {
      "text/plain": [
       "'-0b1000'"
      ]
     },
     "execution_count": 37,
     "metadata": {},
     "output_type": "execute_result"
    }
   ],
   "source": [
    "not_var= ~0b111\n",
    "print(not_var) #0b000               \n",
    "bin(not_var) #convert to binary string"
   ]
  },
  {
   "cell_type": "code",
   "execution_count": 39,
   "id": "9bf4c957",
   "metadata": {},
   "outputs": [
    {
     "data": {
      "text/plain": [
       "'0b1'"
      ]
     },
     "execution_count": 39,
     "metadata": {},
     "output_type": "execute_result"
    }
   ],
   "source": [
    "ls= 0b1100>>0b0011\n",
    "bin(ls) #0b0001"
   ]
  },
  {
   "cell_type": "code",
   "execution_count": 11,
   "id": "a6185ef1",
   "metadata": {},
   "outputs": [
    {
     "name": "stdout",
     "output_type": "stream",
     "text": [
      "12\n"
     ]
    },
    {
     "data": {
      "text/plain": [
       "'0b1100'"
      ]
     },
     "execution_count": 11,
     "metadata": {},
     "output_type": "execute_result"
    }
   ],
   "source": [
    "rs= 50>>2\n",
    "'''In Python, a >> b means:Shift the bits of a to the right by b positions.'''\n",
    "print(rs) \n",
    "bin(rs)\n"
   ]
  },
  {
   "cell_type": "code",
   "execution_count": 12,
   "id": "6cd5408f",
   "metadata": {},
   "outputs": [
    {
     "name": "stdout",
     "output_type": "stream",
     "text": [
      "200\n"
     ]
    },
    {
     "data": {
      "text/plain": [
       "'0b11001000'"
      ]
     },
     "execution_count": 12,
     "metadata": {},
     "output_type": "execute_result"
    }
   ],
   "source": [
    "#ls\n",
    "ls= 50<<2\n",
    "'''In Python, a << b means:Shift the bits of a to the left by b positions.'''\n",
    "\n",
    "print(ls)\n",
    "bin(ls) #convert to binary string"
   ]
  },
  {
   "cell_type": "code",
   "execution_count": 14,
   "id": "1e4f33fd",
   "metadata": {},
   "outputs": [
    {
     "data": {
      "text/plain": [
       "True"
      ]
     },
     "execution_count": 14,
     "metadata": {},
     "output_type": "execute_result"
    }
   ],
   "source": [
    "5==5 #comparison operator\n",
    "5!=6 #not equal operator"
   ]
  },
  {
   "cell_type": "code",
   "execution_count": 22,
   "id": "a5919b7a",
   "metadata": {},
   "outputs": [
    {
     "data": {
      "text/plain": [
       "True"
      ]
     },
     "execution_count": 22,
     "metadata": {},
     "output_type": "execute_result"
    }
   ],
   "source": [
    "6>5 #greater than operator"
   ]
  },
  {
   "cell_type": "code",
   "execution_count": 23,
   "id": "d6fea41e",
   "metadata": {},
   "outputs": [
    {
     "data": {
      "text/plain": [
       "False"
      ]
     },
     "execution_count": 23,
     "metadata": {},
     "output_type": "execute_result"
    }
   ],
   "source": [
    "6<5 #less than operator"
   ]
  },
  {
   "cell_type": "code",
   "execution_count": 24,
   "id": "c5197d5d",
   "metadata": {},
   "outputs": [
    {
     "data": {
      "text/plain": [
       "True"
      ]
     },
     "execution_count": 24,
     "metadata": {},
     "output_type": "execute_result"
    }
   ],
   "source": [
    "6>=5 #greater than or equal to operator"
   ]
  },
  {
   "cell_type": "code",
   "execution_count": 25,
   "id": "8d3bd5de",
   "metadata": {},
   "outputs": [
    {
     "data": {
      "text/plain": [
       "False"
      ]
     },
     "execution_count": 25,
     "metadata": {},
     "output_type": "execute_result"
    }
   ],
   "source": [
    "6<=5 #less than or equal to operator"
   ]
  },
  {
   "cell_type": "code",
   "execution_count": null,
   "id": "6cadfb96",
   "metadata": {},
   "outputs": [
    {
     "data": {
      "text/plain": [
       "False"
      ]
     },
     "execution_count": 29,
     "metadata": {},
     "output_type": "execute_result"
    }
   ],
   "source": [
    "list1=[2,3,4] #in operator\n",
    "list2=[5,3,4]\n",
    "list1 in list2\n"
   ]
  },
  {
   "cell_type": "code",
   "execution_count": 30,
   "id": "1a5b082f",
   "metadata": {},
   "outputs": [
    {
     "data": {
      "text/plain": [
       "False"
      ]
     },
     "execution_count": 30,
     "metadata": {},
     "output_type": "execute_result"
    }
   ],
   "source": [
    "list2 in list1"
   ]
  },
  {
   "cell_type": "code",
   "execution_count": 31,
   "id": "34a7b452",
   "metadata": {},
   "outputs": [
    {
     "data": {
      "text/plain": [
       "False"
      ]
     },
     "execution_count": 31,
     "metadata": {},
     "output_type": "execute_result"
    }
   ],
   "source": [
    "list1 and list2==[2,3,4] and [5,3,4] #and operator"
   ]
  },
  {
   "cell_type": "code",
   "execution_count": null,
   "id": "c4c11e35",
   "metadata": {},
   "outputs": [
    {
     "name": "stdout",
     "output_type": "stream",
     "text": [
      "[5, 3, 4]\n"
     ]
    }
   ],
   "source": [
    "print(list2 == [2,3,4] or [5,3,4])\n",
    "#or operator\n"
   ]
  },
  {
   "cell_type": "code",
   "execution_count": 40,
   "id": "de557b74",
   "metadata": {},
   "outputs": [
    {
     "data": {
      "text/plain": [
       "False"
      ]
     },
     "execution_count": 40,
     "metadata": {},
     "output_type": "execute_result"
    }
   ],
   "source": [
    "list1 is list2 #identity operator"
   ]
  },
  {
   "cell_type": "code",
   "execution_count": 44,
   "id": "fcce35a1",
   "metadata": {},
   "outputs": [
    {
     "name": "stdout",
     "output_type": "stream",
     "text": [
      "True\n"
     ]
    }
   ],
   "source": [
    "m=5\n",
    "print(m>=5 or m<6) #identity operator"
   ]
  },
  {
   "cell_type": "code",
   "execution_count": 45,
   "id": "12942c5c",
   "metadata": {},
   "outputs": [
    {
     "name": "stderr",
     "output_type": "stream",
     "text": [
      "<>:1: SyntaxWarning: \"is not\" with a literal. Did you mean \"!=\"?\n",
      "<>:1: SyntaxWarning: \"is not\" with a literal. Did you mean \"!=\"?\n",
      "C:\\Users\\omarr\\AppData\\Local\\Temp\\ipykernel_6728\\121350511.py:1: SyntaxWarning: \"is not\" with a literal. Did you mean \"!=\"?\n",
      "  m is not 5\n"
     ]
    },
    {
     "data": {
      "text/plain": [
       "False"
      ]
     },
     "execution_count": 45,
     "metadata": {},
     "output_type": "execute_result"
    }
   ],
   "source": [
    "m is not 5"
   ]
  },
  {
   "cell_type": "code",
   "execution_count": 46,
   "id": "1a2d3bd6",
   "metadata": {},
   "outputs": [
    {
     "name": "stderr",
     "output_type": "stream",
     "text": [
      "<>:1: SyntaxWarning: \"is not\" with a literal. Did you mean \"!=\"?\n",
      "<>:1: SyntaxWarning: \"is not\" with a literal. Did you mean \"!=\"?\n",
      "C:\\Users\\omarr\\AppData\\Local\\Temp\\ipykernel_6728\\1253418332.py:1: SyntaxWarning: \"is not\" with a literal. Did you mean \"!=\"?\n",
      "  m is not 6\n"
     ]
    },
    {
     "data": {
      "text/plain": [
       "True"
      ]
     },
     "execution_count": 46,
     "metadata": {},
     "output_type": "execute_result"
    }
   ],
   "source": [
    "m is not 6"
   ]
  }
 ],
 "metadata": {
  "kernelspec": {
   "display_name": "base",
   "language": "python",
   "name": "python3"
  },
  "language_info": {
   "codemirror_mode": {
    "name": "ipython",
    "version": 3
   },
   "file_extension": ".py",
   "mimetype": "text/x-python",
   "name": "python",
   "nbconvert_exporter": "python",
   "pygments_lexer": "ipython3",
   "version": "3.11.5"
  }
 },
 "nbformat": 4,
 "nbformat_minor": 5
}
