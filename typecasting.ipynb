{
 "cells": [
  {
   "cell_type": "markdown",
   "id": "7019671d",
   "metadata": {},
   "source": [
    "Implicit data conversion"
   ]
  },
  {
   "cell_type": "code",
   "execution_count": 5,
   "id": "c5a748a6",
   "metadata": {},
   "outputs": [
    {
     "name": "stdout",
     "output_type": "stream",
     "text": [
      "Your age is: 23\n"
     ]
    }
   ],
   "source": [
    "age = int (input(\"Enter your age: \"))\n",
    "print(\"Your age is:\", age)"
   ]
  },
  {
   "cell_type": "code",
   "execution_count": 14,
   "id": "9807494b",
   "metadata": {},
   "outputs": [
    {
     "name": "stdout",
     "output_type": "stream",
     "text": [
      "<class 'float'>\n",
      "5.0\n"
     ]
    }
   ],
   "source": [
    "x=5\n",
    "f_x= float(x)\n",
    "print(type(f_x))\n",
    "print (f_x)"
   ]
  },
  {
   "cell_type": "code",
   "execution_count": 15,
   "id": "f43dea6a",
   "metadata": {},
   "outputs": [
    {
     "name": "stdout",
     "output_type": "stream",
     "text": [
      "<class 'str'>\n",
      "5\n"
     ]
    }
   ],
   "source": [
    "s_x= str(x)\n",
    "print(type(s_x))\n",
    "print(s_x)"
   ]
  },
  {
   "cell_type": "code",
   "execution_count": null,
   "id": "61c63a8d",
   "metadata": {},
   "outputs": [
    {
     "name": "stdout",
     "output_type": "stream",
     "text": [
      "<class 'list'>\n",
      "['5']\n"
     ]
    }
   ],
   "source": [
    "l_x= list(s_x)\n",
    "print(type(l_x))\n",
    "print(l_x)   "
   ]
  },
  {
   "cell_type": "code",
   "execution_count": 17,
   "id": "64198cce",
   "metadata": {},
   "outputs": [
    {
     "name": "stdout",
     "output_type": "stream",
     "text": [
      "<class 'tuple'>\n",
      "('5',)\n"
     ]
    }
   ],
   "source": [
    "t_x= tuple(l_x)\n",
    "print(type(t_x))        \n",
    "print(t_x)"
   ]
  },
  {
   "cell_type": "markdown",
   "id": "d0d224da",
   "metadata": {},
   "source": [
    "Explicit Data Conversion\n",
    "■\n",
    "Takes place automatically during run time between ONLY numeric values\n",
    "●\n",
    "E.g., Adding a float and an integer will automatically result in a float value"
   ]
  }
 ],
 "metadata": {
  "kernelspec": {
   "display_name": "Python 3",
   "language": "python",
   "name": "python3"
  },
  "language_info": {
   "codemirror_mode": {
    "name": "ipython",
    "version": 3
   },
   "file_extension": ".py",
   "mimetype": "text/x-python",
   "name": "python",
   "nbconvert_exporter": "python",
   "pygments_lexer": "ipython3",
   "version": "3.10.11"
  }
 },
 "nbformat": 4,
 "nbformat_minor": 5
}
