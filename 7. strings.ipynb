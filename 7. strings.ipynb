{
 "cells": [
  {
   "cell_type": "markdown",
   "id": "9044b4fe",
   "metadata": {},
   "source": [
    "A string is a sequence of letters (called characters).\n",
    "In Python, strings start and end with single or double quotes."
   ]
  },
  {
   "cell_type": "code",
   "execution_count": 9,
   "id": "e2927f68",
   "metadata": {},
   "outputs": [],
   "source": [
    "mystring= 'GATTACA'"
   ]
  },
  {
   "cell_type": "code",
   "execution_count": 12,
   "id": "edcca1c6",
   "metadata": {},
   "outputs": [
    {
     "data": {
      "text/plain": [
       "'G'"
      ]
     },
     "execution_count": 12,
     "metadata": {},
     "output_type": "execute_result"
    }
   ],
   "source": [
    "mystring[0]  # Accessing the first character"
   ]
  },
  {
   "cell_type": "code",
   "execution_count": 13,
   "id": "2b81ba45",
   "metadata": {},
   "outputs": [
    {
     "data": {
      "text/plain": [
       "'A'"
      ]
     },
     "execution_count": 13,
     "metadata": {},
     "output_type": "execute_result"
    }
   ],
   "source": [
    "mystring[-1]"
   ]
  },
  {
   "cell_type": "code",
   "execution_count": 14,
   "id": "cdc0c172",
   "metadata": {},
   "outputs": [
    {
     "data": {
      "text/plain": [
       "'C'"
      ]
     },
     "execution_count": 14,
     "metadata": {},
     "output_type": "execute_result"
    }
   ],
   "source": [
    "mystring[-2]"
   ]
  },
  {
   "cell_type": "code",
   "execution_count": 17,
   "id": "e191301e",
   "metadata": {},
   "outputs": [
    {
     "data": {
      "text/plain": [
       "'GATTACA'"
      ]
     },
     "execution_count": 17,
     "metadata": {},
     "output_type": "execute_result"
    }
   ],
   "source": [
    "#indexing and slicing\n",
    "mystring[:]  "
   ]
  },
  {
   "cell_type": "code",
   "execution_count": 18,
   "id": "40ea1595",
   "metadata": {},
   "outputs": [
    {
     "data": {
      "text/plain": [
       "'GA'"
      ]
     },
     "execution_count": 18,
     "metadata": {},
     "output_type": "execute_result"
    }
   ],
   "source": [
    "mystring[:2]"
   ]
  },
  {
   "cell_type": "code",
   "execution_count": 19,
   "id": "05d1916e",
   "metadata": {},
   "outputs": [
    {
     "data": {
      "text/plain": [
       "'TA'"
      ]
     },
     "execution_count": 19,
     "metadata": {},
     "output_type": "execute_result"
    }
   ],
   "source": [
    "mystring[3:5]"
   ]
  },
  {
   "cell_type": "code",
   "execution_count": 20,
   "id": "64ea7f30",
   "metadata": {},
   "outputs": [
    {
     "data": {
      "text/plain": [
       "'TACA'"
      ]
     },
     "execution_count": 20,
     "metadata": {},
     "output_type": "execute_result"
    }
   ],
   "source": [
    "mystring[3:]"
   ]
  },
  {
   "cell_type": "code",
   "execution_count": 27,
   "id": "70bf923d",
   "metadata": {},
   "outputs": [
    {
     "data": {
      "text/plain": [
       "\"he said ,'hello'\""
      ]
     },
     "execution_count": 27,
     "metadata": {},
     "output_type": "execute_result"
    }
   ],
   "source": [
    "#special characters\n",
    "'he said ,\\\\\"hello\"'\n",
    "'he said ,\\'hello\\''"
   ]
  },
  {
   "cell_type": "code",
   "execution_count": null,
   "id": "04096716",
   "metadata": {},
   "outputs": [
    {
     "name": "stdout",
     "output_type": "stream",
     "text": [
      "umar riaz \n",
      " how are you?\n"
     ]
    }
   ],
   "source": [
    "print('umar riaz \\n how are you?') # Using \\n for new line"
   ]
  },
  {
   "cell_type": "code",
   "execution_count": null,
   "id": "8a6a41fc",
   "metadata": {},
   "outputs": [
    {
     "name": "stdout",
     "output_type": "stream",
     "text": [
      "my full name is umar \t riaz\n"
     ]
    }
   ],
   "source": [
    "print(\"my full name is umar \\t riaz\") # Using \\t for tab space"
   ]
  },
  {
   "cell_type": "code",
   "execution_count": 30,
   "id": "1048f9b8",
   "metadata": {},
   "outputs": [
    {
     "data": {
      "text/plain": [
       "7"
      ]
     },
     "execution_count": 30,
     "metadata": {},
     "output_type": "execute_result"
    }
   ],
   "source": [
    "#len funtion\n",
    "len(mystring)  # Length of the string"
   ]
  },
  {
   "cell_type": "code",
   "execution_count": 31,
   "id": "c3bf5ec3",
   "metadata": {},
   "outputs": [
    {
     "data": {
      "text/plain": [
       "9"
      ]
     },
     "execution_count": 31,
     "metadata": {},
     "output_type": "execute_result"
    }
   ],
   "source": [
    "len(\"umar riaz\")  # Length of another string"
   ]
  },
  {
   "cell_type": "code",
   "execution_count": 32,
   "id": "2a4338ae",
   "metadata": {},
   "outputs": [
    {
     "data": {
      "text/plain": [
       "'Umar'"
      ]
     },
     "execution_count": 32,
     "metadata": {},
     "output_type": "execute_result"
    }
   ],
   "source": [
    "\"Um\" + \"ar\"  # String concatenation"
   ]
  },
  {
   "cell_type": "code",
   "execution_count": 33,
   "id": "5d6b92e9",
   "metadata": {},
   "outputs": [
    {
     "data": {
      "text/plain": [
       "'UmarUmarUmar'"
      ]
     },
     "execution_count": 33,
     "metadata": {},
     "output_type": "execute_result"
    }
   ],
   "source": [
    "'Umar' * 3  # String repetition"
   ]
  },
  {
   "cell_type": "code",
   "execution_count": 35,
   "id": "3137d3cb",
   "metadata": {},
   "outputs": [
    {
     "data": {
      "text/plain": [
       "True"
      ]
     },
     "execution_count": 35,
     "metadata": {},
     "output_type": "execute_result"
    }
   ],
   "source": [
    "'Um' in 'Umar'  # Checking if substring exists"
   ]
  },
  {
   "cell_type": "markdown",
   "id": "f11a8edf",
   "metadata": {},
   "source": [
    "String Methods"
   ]
  },
  {
   "cell_type": "code",
   "execution_count": 36,
   "id": "ec02b23f",
   "metadata": {},
   "outputs": [
    {
     "data": {
      "text/plain": [
       "2"
      ]
     },
     "execution_count": 36,
     "metadata": {},
     "output_type": "execute_result"
    }
   ],
   "source": [
    "mystring.find('T')  # Finding the index of a character"
   ]
  },
  {
   "cell_type": "code",
   "execution_count": 38,
   "id": "6c3d6d87",
   "metadata": {},
   "outputs": [
    {
     "data": {
      "text/plain": [
       "2"
      ]
     },
     "execution_count": 38,
     "metadata": {},
     "output_type": "execute_result"
    }
   ],
   "source": [
    "mystring.count('T')"
   ]
  },
  {
   "cell_type": "code",
   "execution_count": 39,
   "id": "3ed975d2",
   "metadata": {},
   "outputs": [
    {
     "data": {
      "text/plain": [
       "'gattaca'"
      ]
     },
     "execution_count": 39,
     "metadata": {},
     "output_type": "execute_result"
    }
   ],
   "source": [
    "mystring.lower()  # Converting to lowercase"
   ]
  },
  {
   "cell_type": "code",
   "execution_count": 40,
   "id": "111fbd37",
   "metadata": {},
   "outputs": [
    {
     "data": {
      "text/plain": [
       "'GATTACA'"
      ]
     },
     "execution_count": 40,
     "metadata": {},
     "output_type": "execute_result"
    }
   ],
   "source": [
    "mystring.upper()  # Convert to uppercase"
   ]
  },
  {
   "cell_type": "code",
   "execution_count": 41,
   "id": "93966f0a",
   "metadata": {},
   "outputs": [
    {
     "data": {
      "text/plain": [
       "'GUTTUCU'"
      ]
     },
     "execution_count": 41,
     "metadata": {},
     "output_type": "execute_result"
    }
   ],
   "source": [
    "mystring.replace('A','U')"
   ]
  },
  {
   "cell_type": "code",
   "execution_count": 43,
   "id": "05012e18",
   "metadata": {},
   "outputs": [
    {
     "data": {
      "text/plain": [
       "True"
      ]
     },
     "execution_count": 43,
     "metadata": {},
     "output_type": "execute_result"
    }
   ],
   "source": [
    "mystring.startswith('G')  # Check if string starts with 'G'"
   ]
  },
  {
   "cell_type": "code",
   "execution_count": 44,
   "id": "b69ec7c7",
   "metadata": {},
   "outputs": [
    {
     "data": {
      "text/plain": [
       "False"
      ]
     },
     "execution_count": 44,
     "metadata": {},
     "output_type": "execute_result"
    }
   ],
   "source": [
    "mystring.startswith('A')  # Check if string starts with 'A'"
   ]
  },
  {
   "cell_type": "markdown",
   "id": "4bc29d97",
   "metadata": {},
   "source": [
    "strings are immutable/changeable, cannot be modified but can be made as new one"
   ]
  },
  {
   "cell_type": "code",
   "execution_count": null,
   "id": "accabce5",
   "metadata": {},
   "outputs": [
    {
     "ename": "NameError",
     "evalue": "name 'mystrings' is not defined",
     "output_type": "error",
     "traceback": [
      "\u001b[1;31m---------------------------------------------------------------------------\u001b[0m",
      "\u001b[1;31mNameError\u001b[0m                                 Traceback (most recent call last)",
      "Cell \u001b[1;32mIn[45], line 1\u001b[0m\n\u001b[1;32m----> 1\u001b[0m mystrings[\u001b[38;5;241m2\u001b[39m]\u001b[38;5;241m=\u001b[39m\u001b[38;5;124m'\u001b[39m\u001b[38;5;124mG\u001b[39m\u001b[38;5;124m'\u001b[39m\n",
      "\u001b[1;31mNameError\u001b[0m: name 'mystrings' is not defined"
     ]
    }
   ],
   "source": [
    "mystrings[2]='G' # Attempting to change a character (will raise an error)"
   ]
  },
  {
   "cell_type": "markdown",
   "id": "da43999d",
   "metadata": {},
   "source": [
    "but we can modify by using methods as described above e.g replace(), concatenation, slicing."
   ]
  }
 ],
 "metadata": {
  "kernelspec": {
   "display_name": "base",
   "language": "python",
   "name": "python3"
  },
  "language_info": {
   "codemirror_mode": {
    "name": "ipython",
    "version": 3
   },
   "file_extension": ".py",
   "mimetype": "text/x-python",
   "name": "python",
   "nbconvert_exporter": "python",
   "pygments_lexer": "ipython3",
   "version": "3.11.5"
  }
 },
 "nbformat": 4,
 "nbformat_minor": 5
}
