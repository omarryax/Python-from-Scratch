{
 "cells": [
  {
   "cell_type": "markdown",
   "id": "af117991",
   "metadata": {},
   "source": [
    "Tuple"
   ]
  },
  {
   "cell_type": "code",
   "execution_count": 3,
   "id": "38184aec",
   "metadata": {},
   "outputs": [
    {
     "name": "stdout",
     "output_type": "stream",
     "text": [
      "()\n"
     ]
    }
   ],
   "source": [
    "#immutable, so we can't change it\n",
    "#they use parenthesis\n",
    "empty_tuple=()\n",
    "print(empty_tuple)"
   ]
  },
  {
   "cell_type": "code",
   "execution_count": 4,
   "id": "fc480e3e",
   "metadata": {},
   "outputs": [
    {
     "name": "stdout",
     "output_type": "stream",
     "text": [
      "(1, 2, 3, 4, 5)\n"
     ]
    }
   ],
   "source": [
    "int_tuple=(1,2,3,4,5)\n",
    "print(int_tuple)"
   ]
  },
  {
   "cell_type": "code",
   "execution_count": 5,
   "id": "6647bcfe",
   "metadata": {},
   "outputs": [
    {
     "name": "stdout",
     "output_type": "stream",
     "text": [
      "(1, 2, 'Umar', 3.14, True)\n"
     ]
    }
   ],
   "source": [
    "mix_tuple=(1,2,'Umar',3.14,True)\n",
    "print(mix_tuple)"
   ]
  },
  {
   "cell_type": "code",
   "execution_count": 7,
   "id": "edc4ab0e",
   "metadata": {},
   "outputs": [
    {
     "name": "stdout",
     "output_type": "stream",
     "text": [
      "(1, 2)\n"
     ]
    }
   ],
   "source": [
    "#ways of creating tuple\n",
    "mytuple=1,2\n",
    "print(mytuple)"
   ]
  },
  {
   "cell_type": "code",
   "execution_count": 10,
   "id": "26c8d87a",
   "metadata": {},
   "outputs": [
    {
     "name": "stdout",
     "output_type": "stream",
     "text": [
      "(1,)\n"
     ]
    }
   ],
   "source": [
    "mytuple2=(1,)\n",
    "print(mytuple2)"
   ]
  },
  {
   "cell_type": "code",
   "execution_count": 11,
   "id": "7cc44736",
   "metadata": {},
   "outputs": [
    {
     "name": "stdout",
     "output_type": "stream",
     "text": [
      "1\n"
     ]
    }
   ],
   "source": [
    "mytuple3=(1)\n",
    "print(mytuple3)"
   ]
  },
  {
   "cell_type": "markdown",
   "id": "a837f7da",
   "metadata": {},
   "source": [
    "tuple packing"
   ]
  },
  {
   "cell_type": "code",
   "execution_count": 13,
   "id": "ed82af84",
   "metadata": {},
   "outputs": [
    {
     "name": "stdout",
     "output_type": "stream",
     "text": [
      "1\n",
      "2\n",
      "Umar\n",
      "3.14\n",
      "True\n"
     ]
    }
   ],
   "source": [
    "pack_tuple=mix_tuple\n",
    "a, b, c, d, e = pack_tuple\n",
    "print(a)\n",
    "print(b)\n",
    "print(c)\n",
    "print(d)\n",
    "print(e)"
   ]
  },
  {
   "cell_type": "markdown",
   "id": "338d2afd",
   "metadata": {},
   "source": [
    "accessing elements of tuple"
   ]
  },
  {
   "cell_type": "code",
   "execution_count": null,
   "id": "2029ec54",
   "metadata": {},
   "outputs": [
    {
     "data": {
      "text/plain": [
       "'Umar'"
      ]
     },
     "execution_count": 15,
     "metadata": {},
     "output_type": "execute_result"
    }
   ],
   "source": [
    "#we can access elements of tuple using index \n",
    "mix_tuple[0]\n",
    "mix_tuple[-3]"
   ]
  },
  {
   "cell_type": "code",
   "execution_count": 16,
   "id": "05d9bc1d",
   "metadata": {},
   "outputs": [
    {
     "data": {
      "text/plain": [
       "(2, 'Umar', 3.14)"
      ]
     },
     "execution_count": 16,
     "metadata": {},
     "output_type": "execute_result"
    }
   ],
   "source": [
    "#we can access elements of tuple using slicing\n",
    "mix_tuple[1:4]"
   ]
  },
  {
   "cell_type": "markdown",
   "id": "dfa31927",
   "metadata": {},
   "source": [
    "modifiying elements of tuple"
   ]
  },
  {
   "cell_type": "code",
   "execution_count": 17,
   "id": "cd7bcbf1",
   "metadata": {},
   "outputs": [
    {
     "name": "stdout",
     "output_type": "stream",
     "text": [
      "(1, 1, 2, 'Umar', 3.14, True)\n"
     ]
    }
   ],
   "source": [
    "newtuple= mytuple2+mix_tuple\n",
    "print(newtuple)\n"
   ]
  },
  {
   "cell_type": "markdown",
   "id": "e6ea9f15",
   "metadata": {},
   "source": [
    "Remove elements of tuple"
   ]
  },
  {
   "cell_type": "code",
   "execution_count": 18,
   "id": "636baee8",
   "metadata": {},
   "outputs": [
    {
     "ename": "NameError",
     "evalue": "name 'mytuple3' is not defined",
     "output_type": "error",
     "traceback": [
      "\u001b[1;31m---------------------------------------------------------------------------\u001b[0m",
      "\u001b[1;31mNameError\u001b[0m                                 Traceback (most recent call last)",
      "Cell \u001b[1;32mIn[18], line 4\u001b[0m\n\u001b[0;32m      1\u001b[0m \u001b[38;5;66;03m#removing individual elements from tuple is not possible\u001b[39;00m\n\u001b[0;32m      2\u001b[0m \u001b[38;5;66;03m#Only can del whole tuple entirely\u001b[39;00m\n\u001b[0;32m      3\u001b[0m \u001b[38;5;28;01mdel\u001b[39;00m mytuple3\n\u001b[1;32m----> 4\u001b[0m \u001b[38;5;28mprint\u001b[39m(mytuple3)\n",
      "\u001b[1;31mNameError\u001b[0m: name 'mytuple3' is not defined"
     ]
    }
   ],
   "source": [
    "#removing individual elements from tuple is not possible\n",
    "#Only can del whole tuple entirely\n",
    "del mytuple3\n",
    "print(mytuple3)  # This will raise an error since mytuple3 is deleted\n"
   ]
  },
  {
   "cell_type": "markdown",
   "id": "3e343514",
   "metadata": {},
   "source": [
    "Count() method"
   ]
  },
  {
   "cell_type": "code",
   "execution_count": 19,
   "id": "b378ea6d",
   "metadata": {},
   "outputs": [
    {
     "data": {
      "text/plain": [
       "0"
      ]
     },
     "execution_count": 19,
     "metadata": {},
     "output_type": "execute_result"
    }
   ],
   "source": [
    "mytuple2.count(2)"
   ]
  },
  {
   "cell_type": "code",
   "execution_count": null,
   "id": "b25108a0",
   "metadata": {},
   "outputs": [
    {
     "data": {
      "text/plain": [
       "3"
      ]
     },
     "execution_count": 26,
     "metadata": {},
     "output_type": "execute_result"
    }
   ],
   "source": [
    "newtuple.index('Umar') # Returns the index of the first occurrence of 'Umar'"
   ]
  }
 ],
 "metadata": {
  "kernelspec": {
   "display_name": "base",
   "language": "python",
   "name": "python3"
  },
  "language_info": {
   "codemirror_mode": {
    "name": "ipython",
    "version": 3
   },
   "file_extension": ".py",
   "mimetype": "text/x-python",
   "name": "python",
   "nbconvert_exporter": "python",
   "pygments_lexer": "ipython3",
   "version": "3.11.5"
  }
 },
 "nbformat": 4,
 "nbformat_minor": 5
}
