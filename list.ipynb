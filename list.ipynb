{
 "cells": [
  {
   "cell_type": "markdown",
   "id": "ca2a2d05",
   "metadata": {},
   "source": [
    "List"
   ]
  },
  {
   "cell_type": "markdown",
   "id": "08fa8799",
   "metadata": {},
   "source": [
    "Sequence of items or elements,\n",
    "items can be of any datatype,\n",
    "enclosed within sq bracket[] and separated by commas,\n",
    "quite similar to arrays in C/C++ except contains different datatypes elements,\n",
    "index starts at 0,\n",
    "lists are changeable/mutable, meaning their elements can be changed."
   ]
  },
  {
   "cell_type": "code",
   "execution_count": 4,
   "id": "2de66f69",
   "metadata": {},
   "outputs": [],
   "source": [
    "emptylist = [] # Empty list"
   ]
  },
  {
   "cell_type": "code",
   "execution_count": 5,
   "id": "83e678f3",
   "metadata": {},
   "outputs": [
    {
     "name": "stdout",
     "output_type": "stream",
     "text": [
      "[]\n"
     ]
    }
   ],
   "source": [
    "print(emptylist) # Output: []"
   ]
  },
  {
   "cell_type": "code",
   "execution_count": 6,
   "id": "5d15ac17",
   "metadata": {},
   "outputs": [
    {
     "name": "stdout",
     "output_type": "stream",
     "text": [
      "['Umar', '23', 'Pakistani']\n"
     ]
    }
   ],
   "source": [
    "name= ['Umar','23','Pakistani'] #mixed data types in list\n",
    "print(name) # Output: ['Umar', '23', 'Pakistani']"
   ]
  },
  {
   "cell_type": "markdown",
   "id": "45320ee6",
   "metadata": {},
   "source": [
    "accessing elements from array"
   ]
  },
  {
   "cell_type": "code",
   "execution_count": 7,
   "id": "c131d2a6",
   "metadata": {},
   "outputs": [
    {
     "name": "stdout",
     "output_type": "stream",
     "text": [
      "Umar\n",
      "23\n"
     ]
    }
   ],
   "source": [
    "print(name[0]) # Output: 'Umar'\n",
    "print(name[1]) # Output: '23'   "
   ]
  },
  {
   "cell_type": "code",
   "execution_count": 8,
   "id": "06861ccf",
   "metadata": {},
   "outputs": [
    {
     "name": "stdout",
     "output_type": "stream",
     "text": [
      "Pakistani\n"
     ]
    }
   ],
   "source": [
    "print(name[-1]) # Output: 'Pakistani'"
   ]
  },
  {
   "cell_type": "markdown",
   "id": "98b70083",
   "metadata": {},
   "source": [
    "Modifying elements of List"
   ]
  },
  {
   "cell_type": "code",
   "execution_count": 10,
   "id": "81fd1d78",
   "metadata": {},
   "outputs": [
    {
     "name": "stdout",
     "output_type": "stream",
     "text": [
      "['Umar', '24', 'Pakistani']\n"
     ]
    }
   ],
   "source": [
    "name[1]='24' # Modifying the second element\n",
    "print(name)"
   ]
  },
  {
   "cell_type": "markdown",
   "id": "310c7e72",
   "metadata": {},
   "source": [
    "Adding Elements to List"
   ]
  },
  {
   "cell_type": "markdown",
   "id": "be061bcc",
   "metadata": {},
   "source": [
    "Append() function"
   ]
  },
  {
   "cell_type": "code",
   "execution_count": 11,
   "id": "a4570f33",
   "metadata": {},
   "outputs": [
    {
     "name": "stdout",
     "output_type": "stream",
     "text": [
      "['Umar', '24', 'Pakistani', 'Student']\n"
     ]
    }
   ],
   "source": [
    "#append function to add elements to the last index of list\n",
    "name.append('Student') # Adding 'Student' to the end of the list\n",
    "print(name)"
   ]
  },
  {
   "cell_type": "markdown",
   "id": "672f98f0",
   "metadata": {},
   "source": [
    "Insert() Method/Function"
   ]
  },
  {
   "cell_type": "code",
   "execution_count": 13,
   "id": "6d5ec467",
   "metadata": {},
   "outputs": [
    {
     "name": "stdout",
     "output_type": "stream",
     "text": [
      "['Umar', 'M Umar Riaz', 'M Umar Riaz', '24', 'Pakistani', 'Student']\n"
     ]
    }
   ],
   "source": [
    "#add element at specific index where you want\n",
    "name.insert(1,'M Umar Riaz')\n",
    "print(name)"
   ]
  },
  {
   "cell_type": "markdown",
   "id": "29a28da7",
   "metadata": {},
   "source": [
    "Removing elements from list"
   ]
  },
  {
   "cell_type": "markdown",
   "id": "dfb59998",
   "metadata": {},
   "source": [
    "del() method"
   ]
  },
  {
   "cell_type": "code",
   "execution_count": 15,
   "id": "1aca67fc",
   "metadata": {},
   "outputs": [
    {
     "name": "stdout",
     "output_type": "stream",
     "text": [
      "['Umar', '24', 'Pakistani', 'Student']\n"
     ]
    }
   ],
   "source": [
    "del name [1] # Deleting the second element\n",
    "print(name) "
   ]
  },
  {
   "cell_type": "markdown",
   "id": "94cbbdad",
   "metadata": {},
   "source": [
    "pop() method"
   ]
  },
  {
   "cell_type": "code",
   "execution_count": 25,
   "id": "8a9069fd",
   "metadata": {},
   "outputs": [
    {
     "name": "stdout",
     "output_type": "stream",
     "text": [
      "before popping list:  ['Umar', '24', 'Pakistani', 'Student']\n",
      "after popping list:  ['Umar', '24', 'Pakistani']\n",
      "popped element:  Student\n"
     ]
    }
   ],
   "source": [
    "#pop method only deletes last element of list\n",
    "print(\"before popping list: \",name)\n",
    "popped_list= name.pop()  # Removing the last element\n",
    "print(\"after popping list: \",name) \n",
    "print(\"popped element: \",popped_list) #checking which item got"
   ]
  },
  {
   "cell_type": "markdown",
   "id": "c5fd2664",
   "metadata": {},
   "source": [
    "extend() method"
   ]
  },
  {
   "cell_type": "code",
   "execution_count": 27,
   "id": "a0de44d9",
   "metadata": {},
   "outputs": [
    {
     "name": "stdout",
     "output_type": "stream",
     "text": [
      "['Umar', '24', 'Pakistani', 'Ai Engineer', 923000000]\n"
     ]
    }
   ],
   "source": [
    "#extend() adds multiple elements at once at the end of the list\n",
    "name.extend(['Ai Engineer', 923000000])\n",
    "print(name)"
   ]
  },
  {
   "cell_type": "markdown",
   "id": "936ccfa4",
   "metadata": {},
   "source": [
    "Slicing"
   ]
  },
  {
   "cell_type": "code",
   "execution_count": 28,
   "id": "badab7ae",
   "metadata": {},
   "outputs": [
    {
     "data": {
      "text/plain": [
       "['Umar', '24', 'Pakistani', 'Ai Engineer', 923000000]"
      ]
     },
     "execution_count": 28,
     "metadata": {},
     "output_type": "execute_result"
    }
   ],
   "source": [
    "name[:]"
   ]
  },
  {
   "cell_type": "code",
   "execution_count": 29,
   "id": "31954d40",
   "metadata": {},
   "outputs": [
    {
     "data": {
      "text/plain": [
       "['Umar', '24']"
      ]
     },
     "execution_count": 29,
     "metadata": {},
     "output_type": "execute_result"
    }
   ],
   "source": [
    "name[:2]"
   ]
  },
  {
   "cell_type": "code",
   "execution_count": 32,
   "id": "72bc1c44",
   "metadata": {},
   "outputs": [
    {
     "data": {
      "text/plain": [
       "['Umar', '24', 'Pakistani']"
      ]
     },
     "execution_count": 32,
     "metadata": {},
     "output_type": "execute_result"
    }
   ],
   "source": [
    "name[:-2]"
   ]
  },
  {
   "cell_type": "code",
   "execution_count": 35,
   "id": "9dc9391c",
   "metadata": {},
   "outputs": [
    {
     "data": {
      "text/plain": [
       "['Umar', '24', 'Pakistani']"
      ]
     },
     "execution_count": 35,
     "metadata": {},
     "output_type": "execute_result"
    }
   ],
   "source": [
    "name[0:3] #last doesnt get involved"
   ]
  },
  {
   "cell_type": "code",
   "execution_count": 51,
   "id": "acc9b649",
   "metadata": {},
   "outputs": [
    {
     "data": {
      "text/plain": [
       "['Umar', 'Pakistani', 923000000]"
      ]
     },
     "execution_count": 51,
     "metadata": {},
     "output_type": "execute_result"
    }
   ],
   "source": [
    "name[0:5:2] # step of 2, so it will take every second element"
   ]
  },
  {
   "cell_type": "code",
   "execution_count": 52,
   "id": "fcbe51e4",
   "metadata": {},
   "outputs": [
    {
     "data": {
      "text/plain": [
       "['Umar', 'Ai Engineer']"
      ]
     },
     "execution_count": 52,
     "metadata": {},
     "output_type": "execute_result"
    }
   ],
   "source": [
    "name[0:5:3] #step of 3"
   ]
  },
  {
   "cell_type": "code",
   "execution_count": 53,
   "id": "e5cd1d18",
   "metadata": {},
   "outputs": [
    {
     "name": "stdout",
     "output_type": "stream",
     "text": [
      "['Umar', '23', 'Student']\n"
     ]
    }
   ],
   "source": [
    "a= 'Umar'\n",
    "b= '23'\n",
    "c= 'Student'\n",
    "make_list = [a,b,c] # Creating a list with variables\n",
    "print(make_list)"
   ]
  },
  {
   "cell_type": "markdown",
   "id": "f976dce8",
   "metadata": {},
   "source": [
    "Some other Functions like: sum,max,min"
   ]
  },
  {
   "cell_type": "code",
   "execution_count": 55,
   "id": "5ba63b20",
   "metadata": {},
   "outputs": [
    {
     "data": {
      "text/plain": [
       "'2324'"
      ]
     },
     "execution_count": 55,
     "metadata": {},
     "output_type": "execute_result"
    }
   ],
   "source": [
    "make_list[1]+name[1]"
   ]
  },
  {
   "cell_type": "code",
   "execution_count": 57,
   "id": "a801f0c0",
   "metadata": {},
   "outputs": [
    {
     "name": "stdout",
     "output_type": "stream",
     "text": [
      "sum of list is:  15\n"
     ]
    }
   ],
   "source": [
    "num = [1,2,3,4,5]\n",
    "print(\"sum of list is: \",sum(num))"
   ]
  },
  {
   "cell_type": "code",
   "execution_count": 58,
   "id": "ff6ac577",
   "metadata": {},
   "outputs": [
    {
     "name": "stdout",
     "output_type": "stream",
     "text": [
      "max of list is:  5\n"
     ]
    }
   ],
   "source": [
    "print(\"max of list is: \",max(num))"
   ]
  },
  {
   "cell_type": "code",
   "execution_count": 59,
   "id": "fed602e6",
   "metadata": {},
   "outputs": [
    {
     "name": "stdout",
     "output_type": "stream",
     "text": [
      "min of list is:  1\n"
     ]
    }
   ],
   "source": [
    "print(\"min of list is: \",min(num))"
   ]
  },
  {
   "cell_type": "markdown",
   "id": "ee482a2f",
   "metadata": {},
   "source": [
    "Copy() method"
   ]
  },
  {
   "cell_type": "code",
   "execution_count": 60,
   "id": "1ce63ede",
   "metadata": {},
   "outputs": [
    {
     "name": "stdout",
     "output_type": "stream",
     "text": [
      "['Umar', '24', 'Pakistani', 'Ai Engineer', 923000000]\n"
     ]
    }
   ],
   "source": [
    "#it will create a copy of the list\n",
    "copy_list = name.copy()\n",
    "print (copy_list)"
   ]
  },
  {
   "cell_type": "markdown",
   "id": "ef8ec13d",
   "metadata": {},
   "source": [
    "sort() method"
   ]
  },
  {
   "cell_type": "code",
   "execution_count": 62,
   "id": "e9f5e89e",
   "metadata": {},
   "outputs": [
    {
     "name": "stdout",
     "output_type": "stream",
     "text": [
      "[1, 2, 3, 4, 5]\n"
     ]
    }
   ],
   "source": [
    "num.sort()\n",
    "print(num)"
   ]
  },
  {
   "cell_type": "markdown",
   "id": "ab7f8595",
   "metadata": {},
   "source": [
    "reverse() method"
   ]
  },
  {
   "cell_type": "code",
   "execution_count": null,
   "id": "7f2f840c",
   "metadata": {},
   "outputs": [],
   "source": [
    "num.reverse()"
   ]
  },
  {
   "cell_type": "code",
   "execution_count": 66,
   "id": "f377261e",
   "metadata": {},
   "outputs": [
    {
     "name": "stdout",
     "output_type": "stream",
     "text": [
      "[5, 4, 3, 2, 1]\n"
     ]
    }
   ],
   "source": [
    "print(num)"
   ]
  },
  {
   "cell_type": "markdown",
   "id": "21753bd2",
   "metadata": {},
   "source": [
    "Range() Function"
   ]
  },
  {
   "cell_type": "code",
   "execution_count": 67,
   "id": "6cede562",
   "metadata": {},
   "outputs": [
    {
     "name": "stdout",
     "output_type": "stream",
     "text": [
      "range(1, 6)\n"
     ]
    }
   ],
   "source": [
    "#generates sequence of num\n",
    "print(range(1,6))"
   ]
  },
  {
   "cell_type": "code",
   "execution_count": 68,
   "id": "9830976c",
   "metadata": {},
   "outputs": [
    {
     "name": "stdout",
     "output_type": "stream",
     "text": [
      "[1, 2, 3, 4, 5]\n"
     ]
    }
   ],
   "source": [
    "print(list(range(1,6)))"
   ]
  },
  {
   "cell_type": "markdown",
   "id": "fab969ed",
   "metadata": {},
   "source": [
    "split() function"
   ]
  },
  {
   "cell_type": "code",
   "execution_count": 72,
   "id": "d0d54f68",
   "metadata": {},
   "outputs": [],
   "source": [
    "split_num= 'Umar Riaz'.split()"
   ]
  },
  {
   "cell_type": "code",
   "execution_count": 73,
   "id": "8bb6bb49",
   "metadata": {},
   "outputs": [
    {
     "name": "stdout",
     "output_type": "stream",
     "text": [
      "['Umar', 'Riaz']\n"
     ]
    }
   ],
   "source": [
    "print(split_num)"
   ]
  },
  {
   "cell_type": "code",
   "execution_count": null,
   "id": "872f64b4",
   "metadata": {},
   "outputs": [
    {
     "name": "stdout",
     "output_type": "stream",
     "text": [
      "['Ai', 'Engineer']\n"
     ]
    }
   ],
   "source": [
    "print(name[3].split())"
   ]
  }
 ],
 "metadata": {
  "kernelspec": {
   "display_name": "base",
   "language": "python",
   "name": "python3"
  },
  "language_info": {
   "codemirror_mode": {
    "name": "ipython",
    "version": 3
   },
   "file_extension": ".py",
   "mimetype": "text/x-python",
   "name": "python",
   "nbconvert_exporter": "python",
   "pygments_lexer": "ipython3",
   "version": "3.11.5"
  }
 },
 "nbformat": 4,
 "nbformat_minor": 5
}
