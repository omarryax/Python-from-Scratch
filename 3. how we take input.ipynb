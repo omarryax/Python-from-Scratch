{
 "cells": [
  {
   "cell_type": "code",
   "execution_count": 1,
   "id": "2f9919a7",
   "metadata": {},
   "outputs": [
    {
     "name": "stdout",
     "output_type": "stream",
     "text": [
      "Muhammad Umar Riaz\n"
     ]
    }
   ],
   "source": [
    "intro= input(\"what is your name: \")\n",
    "print (intro)"
   ]
  },
  {
   "cell_type": "markdown",
   "id": "c8d7eb31",
   "metadata": {},
   "source": [
    "How can we force an input number to be stored as a number and not as a\n",
    "string? (eval function around input)"
   ]
  },
  {
   "cell_type": "code",
   "execution_count": 7,
   "id": "1a4ab385",
   "metadata": {},
   "outputs": [
    {
     "name": "stdout",
     "output_type": "stream",
     "text": [
      "23\n"
     ]
    }
   ],
   "source": [
    "intro= eval(input(\"what is your age: \"))\n",
    "print (intro)"
   ]
  },
  {
   "cell_type": "code",
   "execution_count": 3,
   "id": "f3380b13",
   "metadata": {},
   "outputs": [
    {
     "name": "stdout",
     "output_type": "stream",
     "text": [
      "Area of square is: 25\n"
     ]
    }
   ],
   "source": [
    "area_of_square = eval(input(\"Find area through length and breadth of a square: \"))\n",
    "print(\"Area of square is:\", area_of_square) #input= 5*5_ it means it computes 5*5=25 and then prints 25."
   ]
  },
  {
   "cell_type": "code",
   "execution_count": 2,
   "id": "21af6421",
   "metadata": {},
   "outputs": [
    {
     "name": "stdout",
     "output_type": "stream",
     "text": [
      "The result is: 14\n"
     ]
    }
   ],
   "source": [
    "# Example program demonstrating the use of eval function\n",
    "expression = input(\"Enter a mathematical expression (e.g., 2 + 3 * 4): \")\n",
    "result = eval(expression)\n",
    "print(\"The result is:\", result)"
   ]
  },
  {
   "cell_type": "code",
   "execution_count": 6,
   "id": "7fe7fe77",
   "metadata": {},
   "outputs": [
    {
     "name": "stdout",
     "output_type": "stream",
     "text": [
      "Your age is: 23\n"
     ]
    }
   ],
   "source": [
    "#we can also force datatype to input, e.g. int, float, str\n",
    "# Example of forcing input to be an integer\n",
    "age = int (input(\"Enter your age: \"))\n",
    "print(\"Your age is:\", age)"
   ]
  }
 ],
 "metadata": {
  "kernelspec": {
   "display_name": "Python 3",
   "language": "python",
   "name": "python3"
  },
  "language_info": {
   "codemirror_mode": {
    "name": "ipython",
    "version": 3
   },
   "file_extension": ".py",
   "mimetype": "text/x-python",
   "name": "python",
   "nbconvert_exporter": "python",
   "pygments_lexer": "ipython3",
   "version": "3.10.11"
  }
 },
 "nbformat": 4,
 "nbformat_minor": 5
}
