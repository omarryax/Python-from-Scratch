{
 "cells": [
  {
   "cell_type": "markdown",
   "id": "43e79739",
   "metadata": {},
   "source": [
    "if statement "
   ]
  },
  {
   "cell_type": "code",
   "execution_count": 13,
   "id": "fea27353",
   "metadata": {},
   "outputs": [
    {
     "name": "stdout",
     "output_type": "stream",
     "text": [
      "You input a string\n",
      "our input: umar\n"
     ]
    }
   ],
   "source": [
    "x=input (\"Enter a number: \")\n",
    "if x.isdigit():\n",
    "    print(\"You input a number\")\n",
    "elif x.isalpha():\n",
    "    print(\"You input a string\")\n",
    "else:\n",
    "    print(\"You input a special character\")\n",
    "print (\"our input:\",x)"
   ]
  },
  {
   "cell_type": "code",
   "execution_count": 16,
   "id": "06d0508e",
   "metadata": {},
   "outputs": [
    {
     "name": "stdout",
     "output_type": "stream",
     "text": [
      "x is greater than y\n"
     ]
    }
   ],
   "source": [
    "x=5\n",
    "y=2\n",
    "if x>y:\n",
    "    print(\"x is greater than y\")\n",
    "else: \n",
    "    print (\"y is greater than x\")"
   ]
  }
 ],
 "metadata": {
  "kernelspec": {
   "display_name": "base",
   "language": "python",
   "name": "python3"
  },
  "language_info": {
   "codemirror_mode": {
    "name": "ipython",
    "version": 3
   },
   "file_extension": ".py",
   "mimetype": "text/x-python",
   "name": "python",
   "nbconvert_exporter": "python",
   "pygments_lexer": "ipython3",
   "version": "3.11.5"
  }
 },
 "nbformat": 4,
 "nbformat_minor": 5
}
